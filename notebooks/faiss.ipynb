{
 "cells": [
  {
   "cell_type": "code",
   "execution_count": 16,
   "metadata": {},
   "outputs": [],
   "source": [
    "# https://github.com/facebookresearch/faiss/wiki/Getting-started\n",
    "# https://pypi.org/project/faiss-cpu/\n",
    "import faiss\n",
    "import json\n",
    "import numpy as np"
   ]
  },
  {
   "cell_type": "code",
   "execution_count": 8,
   "metadata": {},
   "outputs": [],
   "source": [
    "# embeddings\n",
    "embeddings = np.load(\"../data/embeddings/embeddings.npy\")\n",
    "dim = embeddings.shape[1]\n",
    "\n",
    "xb = embeddings[:30000].astype(\"float32\")\n",
    "xq = embeddings[30000:30100].astype(\"float32\")"
   ]
  },
  {
   "cell_type": "code",
   "execution_count": 9,
   "metadata": {},
   "outputs": [
    {
     "name": "stdout",
     "output_type": "stream",
     "text": [
      "True\n",
      "30000\n"
     ]
    }
   ],
   "source": [
    "# build the index\n",
    "index = faiss.IndexFlatL2(dim)   \n",
    "print(index.is_trained)\n",
    "\n",
    "# add vectors to the index\n",
    "index.add(xb)                  \n",
    "print(index.ntotal)"
   ]
  },
  {
   "cell_type": "code",
   "execution_count": 15,
   "metadata": {},
   "outputs": [
    {
     "name": "stdout",
     "output_type": "stream",
     "text": [
      "[[16796 24712 20958]\n",
      " [18555 20709 21874]\n",
      " [18073 29656 28148]\n",
      " [20721 20713 27767]\n",
      " [20721 14817 18555]]\n",
      "[[28736 22276 19298]\n",
      " [18289 21414 19192]\n",
      " [15084 18883 24233]\n",
      " [22764 22767 22771]\n",
      " [20992 20506 14580]]\n"
     ]
    }
   ],
   "source": [
    "k=3\n",
    "D, I = index.search(xq, k)     # actual search, D: distances, I: indexes\n",
    "print(I[:5])                   # neighbors of the 5 first queries\n",
    "print(I[-5:])                  # neighbors of the 5 last queries"
   ]
  },
  {
   "cell_type": "code",
   "execution_count": 17,
   "metadata": {},
   "outputs": [],
   "source": [
    "with open(\"../data/embeddings/id_embeddings.json\") as fp:\n",
    "    id_embeddings = json.load(fp)\n",
    "    id_embeddings = {int(k): v for k,v in id_embeddings.items()}"
   ]
  },
  {
   "cell_type": "code",
   "execution_count": 19,
   "metadata": {},
   "outputs": [
    {
     "data": {
      "text/plain": [
       "('GC00000281_r1_1', 'GC00005403_2')"
      ]
     },
     "execution_count": 19,
     "metadata": {},
     "output_type": "execute_result"
    }
   ],
   "source": [
    "id_embeddings[16796], id_embeddings[30000]"
   ]
  }
 ],
 "metadata": {
  "kernelspec": {
   "display_name": "Python 3.10.5 ('env': venv)",
   "language": "python",
   "name": "python3"
  },
  "language_info": {
   "codemirror_mode": {
    "name": "ipython",
    "version": 3
   },
   "file_extension": ".py",
   "mimetype": "text/x-python",
   "name": "python",
   "nbconvert_exporter": "python",
   "pygments_lexer": "ipython3",
   "version": "3.10.5"
  },
  "orig_nbformat": 4,
  "vscode": {
   "interpreter": {
    "hash": "5a14d2b0409c871d404535e2a492143411634817671f585468d86771411d7ab4"
   }
  }
 },
 "nbformat": 4,
 "nbformat_minor": 2
}

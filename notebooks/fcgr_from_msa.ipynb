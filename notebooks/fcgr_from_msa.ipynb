{
 "cells": [
  {
   "cell_type": "code",
   "execution_count": 1,
   "metadata": {},
   "outputs": [],
   "source": [
    "# habilitate src folder to be imported from this notebook\n",
    "import sys\n",
    "from pathlib import Path\n",
    "module_path = str(Path.cwd().parents[0])\n",
    "\n",
    "if module_path not in sys.path:\n",
    "    sys.path.append(module_path)"
   ]
  },
  {
   "cell_type": "markdown",
   "metadata": {},
   "source": [
    "____"
   ]
  },
  {
   "cell_type": "code",
   "execution_count": 2,
   "metadata": {},
   "outputs": [],
   "source": [
    "from pathlib import Path\n",
    "from src.utils import count_kmers_from_msa\n",
    "from src.fcgr import FCGRFromKmerCount"
   ]
  },
  {
   "cell_type": "code",
   "execution_count": 5,
   "metadata": {},
   "outputs": [],
   "source": [
    "k = 6 # kmer\n",
    "fcgr = FCGRFromKmerCount(k)\n",
    "path_msa = Path(\"../data/msas/Cluster_3303.fa\")\n",
    "kmer_count, nseqs= count_kmers_from_msa(k, path_msa, return_nseqs=True)"
   ]
  },
  {
   "cell_type": "code",
   "execution_count": 6,
   "metadata": {},
   "outputs": [
    {
     "data": {
      "image/png": "[encoded data removed]",
      "text/plain": [
       "<PIL.Image.Image image mode=L size=64x64 at 0x7FE8351C0D00>"
      ]
     },
     "execution_count": 6,
     "metadata": {},
     "output_type": "execute_result"
    }
   ],
   "source": [
    "m = fcgr(kmer_count)\n",
    "fcgr.plot(m)"
   ]
  },
  {
   "cell_type": "code",
   "execution_count": 7,
   "metadata": {},
   "outputs": [
    {
     "data": {
      "image/png": "[encoded data removed]",
      "text/plain": [
       "<PIL.Image.Image image mode=L size=64x64 at 0x7FE8355AF4C0>"
      ]
     },
     "execution_count": 7,
     "metadata": {},
     "output_type": "execute_result"
    }
   ],
   "source": [
    "fcgr.plot(m / nseqs)"
   ]
  },
  {
   "cell_type": "markdown",
   "metadata": {},
   "source": [
    "___\n",
    "## Generate FCGR for a set of MSAs"
   ]
  },
  {
   "cell_type": "code",
   "execution_count": 9,
   "metadata": {},
   "outputs": [],
   "source": [
    "import numpy as np\n",
    "from collections import defaultdict\n",
    "from pathlib import Path\n",
    "from tqdm import tqdm\n",
    "\n",
    "from src.utils import count_kmers_from_msa\n",
    "from src.fcgr import FCGRFromKmerCount\n",
    "\n",
    "## datasets\n",
    "# input\n",
    "FOLDER_MSA=Path(\"../data/msas/\")\n",
    "# output\n",
    "PATH_SAVE=Path(\"../data/fcgr\") \n",
    "PATH_SAVE.mkdir(exist_ok=True)\n",
    "\n",
    "## fcgr\n",
    "k = 6 \n",
    "fcgr_from_kmer_count = FCGRFromKmerCount(k)"
   ]
  },
  {
   "cell_type": "code",
   "execution_count": 10,
   "metadata": {},
   "outputs": [
    {
     "name": "stderr",
     "output_type": "stream",
     "text": [
      "100%|██████████| 37425/37425 [17:37<00:00, 35.40it/s]  \n"
     ]
    }
   ],
   "source": [
    "seqs_by_msa = defaultdict(int)\n",
    "\n",
    "list_msa=list(FOLDER_MSA.rglob(\"*.fa\"))\n",
    "for path_msa in tqdm(list_msa):\n",
    "    try:\n",
    "        # count kmers\n",
    "        kmer_count, nseqs= count_kmers_from_msa(k, path_msa, return_nseqs=True)\n",
    "        \n",
    "        # save fcgr \n",
    "        fcgr = fcgr_from_kmer_count(kmer_count)   \n",
    "        np.save(file=PATH_SAVE.joinpath(path_msa.stem+\".npy\"), arr=fcgr)\n",
    "        seqs_by_msa[str(path_msa)] = nseqs\n",
    "\n",
    "    except:\n",
    "        continue\n"
   ]
  },
  {
   "cell_type": "code",
   "execution_count": 27,
   "metadata": {},
   "outputs": [
    {
     "data": {
      "text/plain": [
       "PosixPath('/home/disco/Data/Pandora/msas/GC00000680_17.fa')"
      ]
     },
     "execution_count": 27,
     "metadata": {},
     "output_type": "execute_result"
    }
   ],
   "source": [
    "path_msa"
   ]
  },
  {
   "cell_type": "markdown",
   "metadata": {},
   "source": []
  }
 ],
 "metadata": {
  "kernelspec": {
   "display_name": "Python 3.10.5 ('env': venv)",
   "language": "python",
   "name": "python3"
  },
  "language_info": {
   "codemirror_mode": {
    "name": "ipython",
    "version": 3
   },
   "file_extension": ".py",
   "mimetype": "text/x-python",
   "name": "python",
   "nbconvert_exporter": "python",
   "pygments_lexer": "ipython3",
   "version": "3.10.5"
  },
  "orig_nbformat": 4,
  "vscode": {
   "interpreter": {
    "hash": "5a14d2b0409c871d404535e2a492143411634817671f585468d86771411d7ab4"
   }
  }
 },
 "nbformat": 4,
 "nbformat_minor": 2
}
